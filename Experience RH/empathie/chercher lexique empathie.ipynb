{
 "cells": [
  {
   "cell_type": "code",
   "execution_count": null,
   "id": "65a4b075",
   "metadata": {},
   "outputs": [],
   "source": [
    "# -*- coding: utf-8 -*-\n",
    "import dataiku\n",
    "import pandas as pd, numpy as np\n",
    "from dataiku import pandasutils as pdu\n",
    "\n",
    "# Read recipe inputs\n",
    "conver_deces_non_empathique = dataiku.Dataset(\"conver_deces_non_empathique\")\n",
    "conver_deces_non_empathique_df = conver_deces_non_empathique.get_dataframe()\n",
    "\n",
    "lexique_Empathie = dataiku.Dataset(\"Lexique_Empathie\")\n",
    "lexique_Empathie_df = lexique_Empathie.get_dataframe()\n",
    "\n",
    "liste_operateur = list(conver_deces_non_empathique_df['text_operateur'])\n",
    "liste_empathie = list(lexique_Empathie_df['Empathie'])\n",
    "#liste_empathie.append('courage')\n",
    "\n",
    "# Compute recipe outputs\n",
    "# TODO: Write here your actual code that computes the outputs\n",
    "# NB: DSS supports several kinds of APIs for reading and writing data. Please see doc.\n",
    "\n",
    "#verification_non_empathie_df = ... # Compute a Pandas dataframe to write into verification_non_empathie\n",
    "\n",
    "\n",
    "# Write recipe outputs\n",
    "#verification_non_empathie = dataiku.Dataset(\"verification_non_empathie\")\n",
    "#verification_non_empathie.write_with_schema(verification_non_empathie_df)"
   ]
  },
  {
   "cell_type": "code",
   "execution_count": null,
   "id": "5e13eb4e",
   "metadata": {},
   "outputs": [],
   "source": [
    "print(len(liste_operateur))"
   ]
  },
  {
   "cell_type": "code",
   "execution_count": null,
   "id": "90853af6",
   "metadata": {},
   "outputs": [],
   "source": [
    "new_liste_empathie = []\n",
    "for de in liste_empathie:\n",
    "    de = str(de)\n",
    "    de = ' '+de+' '\n",
    "    new_liste_empathie.append(de)"
   ]
  },
  {
   "cell_type": "code",
   "execution_count": null,
   "id": "77814c4b",
   "metadata": {},
   "outputs": [],
   "source": [
    "import re\n",
    "liste_empathie_all = []\n",
    "for i in liste_operateur:\n",
    "    tdp = str(i)\n",
    "    for d in new_liste_empathie:\n",
    "        matchObj = re.search(d, tdp)\n",
    "        if matchObj:\n",
    "            \n",
    "              liste_empathie_all.append(tdp)  \n",
    "                \n",
    "liste_empathie_all = set(liste_empathie_all)\n",
    "liste_empathie_all = list(liste_empathie_all)\n",
    "#print(liste_empathie_all[3])"
   ]
  },
  {
   "cell_type": "code",
   "execution_count": null,
   "id": "e0e38465",
   "metadata": {},
   "outputs": [],
   "source": [
    "new_df_2 = pd.DataFrame(columns = ['texte_avec_empathie'])\n",
    "new_df_2['texte_avec_empathie'] = liste_empathie_all"
   ]
  },
  {
   "cell_type": "code",
   "execution_count": null,
   "id": "2d6d7858",
   "metadata": {},
   "outputs": [],
   "source": [
    "verification_non_empathie = dataiku.Dataset(\"verification_non_empathie\")\n",
    "verification_non_empathie.write_with_schema(new_df_2)"
   ]
  }
 ],
 "metadata": {
  "kernelspec": {
   "display_name": "Python 3 (ipykernel)",
   "language": "python",
   "name": "python3"
  },
  "language_info": {
   "codemirror_mode": {
    "name": "ipython",
    "version": 3
   },
   "file_extension": ".py",
   "mimetype": "text/x-python",
   "name": "python",
   "nbconvert_exporter": "python",
   "pygments_lexer": "ipython3",
   "version": "3.9.7"
  }
 },
 "nbformat": 4,
 "nbformat_minor": 5
}
