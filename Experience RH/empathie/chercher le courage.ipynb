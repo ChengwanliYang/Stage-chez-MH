{
 "cells": [
  {
   "cell_type": "code",
   "execution_count": null,
   "id": "5a87cd71",
   "metadata": {},
   "outputs": [],
   "source": [
    "# -*- coding: utf-8 -*-\n",
    "import dataiku\n",
    "import pandas as pd, numpy as np\n",
    "from dataiku import pandasutils as pdu\n",
    "\n",
    "# Read recipe inputs\n",
    "conver_deces_non_empathique_2_date = dataiku.Dataset(\"conver_deces_non_empathique_2_prepared\")\n",
    "conver_deces_non_empathique_2_date_df = conver_deces_non_empathique_2_date.get_dataframe()\n",
    "\n",
    "liste_texte = list(conver_deces_non_empathique_2_date_df['texte_deces'])\n",
    "\n",
    "\n",
    "# Compute recipe outputs from inputs\n",
    "# TODO: Replace this part by your actual code that computes the output, as a Pandas dataframe\n",
    "# NB: DSS also supports other kinds of APIs for reading and writing data. Please see doc.\n",
    "\n",
    "#conver_deces_non_condo_avec_courage_df = conver_deces_non_empathique_2_date_df # For this sample code, simply copy input to output\n",
    "\n",
    "\n",
    "# Write recipe outputs\n",
    "#conver_deces_non_condo_avec_courage = dataiku.Dataset(\"conver_deces_non_condo_avec_courage\")\n",
    "#conver_deces_non_condo_avec_courage.write_with_schema(conver_deces_non_condo_avec_courage_df)"
   ]
  },
  {
   "cell_type": "code",
   "execution_count": null,
   "id": "f08a3e56",
   "metadata": {},
   "outputs": [],
   "source": [
    "l_courage = []\n",
    "for texte in liste_texte:\n",
    "    if ' courage ' in texte:\n",
    "        l_courage.append(texte)\n",
    "\n",
    "print(len(l_courage))"
   ]
  },
  {
   "cell_type": "code",
   "execution_count": null,
   "id": "2499d9f2",
   "metadata": {},
   "outputs": [],
   "source": [
    "conver_deces_non_condo_avec_courage_df = pd.DataFrame(columns = ['texte_deces_courage'])\n",
    "conver_deces_non_condo_avec_courage_df['texte_deces_courage'] = l_courage\n",
    "conver_deces_non_condo_avec_courage = dataiku.Dataset(\"conver_deces_non_condo_avec_courage\")\n",
    "conver_deces_non_condo_avec_courage.write_with_schema(conver_deces_non_condo_avec_courage_df)"
   ]
  }
 ],
 "metadata": {
  "kernelspec": {
   "display_name": "Python 3 (ipykernel)",
   "language": "python",
   "name": "python3"
  },
  "language_info": {
   "codemirror_mode": {
    "name": "ipython",
    "version": 3
   },
   "file_extension": ".py",
   "mimetype": "text/x-python",
   "name": "python",
   "nbconvert_exporter": "python",
   "pygments_lexer": "ipython3",
   "version": "3.9.7"
  }
 },
 "nbformat": 4,
 "nbformat_minor": 5
}
