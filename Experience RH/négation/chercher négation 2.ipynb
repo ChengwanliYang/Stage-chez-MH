{
 "cells": [
  {
   "cell_type": "code",
   "execution_count": null,
   "id": "93678dd5",
   "metadata": {},
   "outputs": [],
   "source": [
    "# -*- coding: utf-8 -*-\n",
    "import dataiku\n",
    "import pandas as pd, numpy as np\n",
    "from dataiku import pandasutils as pdu\n",
    "\n",
    "# Read recipe inputs\n",
    "sat_speech_set_1000_prepared = dataiku.Dataset(\"sat_speech_set_1000_prepared\")\n",
    "sat_speech_set_1000_prepared_df = sat_speech_set_1000_prepared.get_dataframe()\n",
    "negation_Lexique = dataiku.Dataset(\"negation_Lexique\")\n",
    "negation_Lexique_df = negation_Lexique.get_dataframe()\n",
    "\n",
    "\n",
    "liste_de_negation = list(negation_Lexique_df['Negation'])\n",
    "\n",
    "liste_convers = list(sat_speech_set_1000_prepared_df['text_diarise'])\n",
    "liste_convers = liste_convers\n",
    "\n",
    "# Compute recipe outputs\n",
    "# TODO: Write here your actual code that computes the outputs\n",
    "# NB: DSS supports several kinds of APIs for reading and writing data. Please see doc.\n",
    "\n",
    "#sat_nagation_all_df = ... # Compute a Pandas dataframe to write into sat_nagation_all\n",
    "\n",
    "\n",
    "# Write recipe outputs\n",
    "#sat_nagation_all = dataiku.Dataset(\"sat_nagation_all\")\n",
    "#sat_nagation_all.write_with_schema(sat_nagation_all_df)"
   ]
  },
  {
   "cell_type": "code",
   "execution_count": null,
   "id": "ac493a65",
   "metadata": {},
   "outputs": [],
   "source": [
    "liste_negation = []\n",
    "for i in liste_de_negation:\n",
    "    negation = str(i)\n",
    "    negation = ' '+negation+' '\n",
    "    liste_negation.append(negation)\n",
    "    \n",
    "liste_negation.remove(\" n' \")  \n",
    "liste_negation.append(\" n'\")\n",
    "#print(liste_negation)"
   ]
  },
  {
   "cell_type": "code",
   "execution_count": null,
   "id": "d6cd55e9",
   "metadata": {},
   "outputs": [],
   "source": [
    "liste_des_tours_de_paroles_par_conversation = []\n",
    "for conversation in liste_convers:\n",
    "    conversation=str(conversation)\n",
    "    conversation_intermediaire = conversation.split(\".\")\n",
    "    liste_des_tours_de_paroles_par_conversation.append(conversation_intermediaire)\n",
    "print(len(liste_des_tours_de_paroles_par_conversation), 'conservations')#récupère la liste des conversations entières\n",
    "#print(len(liste_des_tours_de_paroles_par_conversation[2]))"
   ]
  },
  {
   "cell_type": "code",
   "execution_count": null,
   "id": "0c073c67",
   "metadata": {},
   "outputs": [],
   "source": [
    "import re\n",
    "liste_oper_all = []\n",
    "for i in range(len(liste_des_tours_de_paroles_par_conversation)):\n",
    "    liste_operateur = []\n",
    "\n",
    "    for tdp_conv in liste_des_tours_de_paroles_par_conversation[i]:\n",
    "        conv_1 = str(tdp_conv)\n",
    "\n",
    "        matchObj = re.search('Opérateur :.+', conv_1)\n",
    "        if matchObj:\n",
    "            liste_operateur.append(matchObj.group())\n",
    "    liste_oper_all.append(liste_operateur)"
   ]
  },
  {
   "cell_type": "code",
   "execution_count": null,
   "id": "8793cb1c",
   "metadata": {},
   "outputs": [],
   "source": [
    "liste_client_all = []\n",
    "for i in range(len(liste_des_tours_de_paroles_par_conversation)):\n",
    "    liste_client = []\n",
    "\n",
    "    for tdp_conv in liste_des_tours_de_paroles_par_conversation[i]:\n",
    "        conv_1 = str(tdp_conv)\n",
    "\n",
    "        matchObj = re.search('Client :.+', conv_1)\n",
    "        if matchObj:\n",
    "            liste_client.append(matchObj.group())\n",
    "    liste_client_all.append(liste_client)\n",
    "    \n"
   ]
  },
  {
   "cell_type": "code",
   "execution_count": null,
   "id": "529c15e7",
   "metadata": {},
   "outputs": [],
   "source": [
    "def liste_negation(liste):\n",
    "    \n",
    "    liste_nega_all = []\n",
    "    for i in range(len(liste)):\n",
    "        #liste_nega = []\n",
    "        convers = liste[i]\n",
    "\n",
    "        liste_nega = []\n",
    "        for tdp in convers:\n",
    "\n",
    "            for ne in liste_de_negation:\n",
    "                matchObj = re.search(ne, tdp)\n",
    "                if matchObj:\n",
    "\n",
    "                    #if tdp not in liste_nega:\n",
    "                        liste_nega.append(tdp)\n",
    "\n",
    "        liste_nega = list(set(liste_nega))\n",
    "        #print(liste_nega)\n",
    "\n",
    "        #if liste_nega not in liste_nega_all:\n",
    "\n",
    "        liste_nega_all.append(liste_nega)\n",
    "    \n",
    "    return liste_nega_all"
   ]
  },
  {
   "cell_type": "code",
   "execution_count": null,
   "id": "084baa99",
   "metadata": {},
   "outputs": [],
   "source": [
    "liste_nega_all_client =  liste_negation(liste_client_all)\n",
    "liste_nega_all_operateur =  liste_negation(liste_oper_all)"
   ]
  },
  {
   "cell_type": "code",
   "execution_count": null,
   "id": "7eaee417",
   "metadata": {},
   "outputs": [],
   "source": [
    "def pourcentage(liste):\n",
    "    liste_pourcentage = []\n",
    "    for i in range(len(liste_des_tours_de_paroles_par_conversation)):\n",
    "        len_nega = len(liste[i])\n",
    "        len_all = len(liste_des_tours_de_paroles_par_conversation[i])\n",
    "        if len_all == 0:\n",
    "            pourcentage == 0\n",
    "            liste_pourcentage.append(pourcentage)\n",
    "        else:\n",
    "            pourcentage = (len_nega/len_all)*100\n",
    "            liste_pourcentage.append(pourcentage)\n",
    "    return liste_pourcentage"
   ]
  },
  {
   "cell_type": "code",
   "execution_count": null,
   "id": "e15584c7",
   "metadata": {},
   "outputs": [],
   "source": [
    "liste_pourcentage_client = pourcentage(liste_nega_all_client)\n",
    "liste_pourcentage_operateur = pourcentage(liste_nega_all_operateur)"
   ]
  },
  {
   "cell_type": "code",
   "execution_count": null,
   "id": "9d53e5f7",
   "metadata": {},
   "outputs": [],
   "source": [
    "rfap = sat_speech_set_1000_prepared_df['rfap']\n",
    "SATISFACTION_GLOBALE = sat_speech_set_1000_prepared_df['SATISFACTION_GLOBALE']\n",
    "#text_negation = sat_speech_1_df['text_negation']\n",
    "domaine_acte = sat_speech_set_1000_prepared_df['domaine_acte']\n",
    "famille_acte = sat_speech_set_1000_prepared_df['famille_acte']\n",
    "objet_acte = sat_speech_set_1000_prepared_df['objet_acte']"
   ]
  },
  {
   "cell_type": "code",
   "execution_count": null,
   "id": "380941c6",
   "metadata": {},
   "outputs": [],
   "source": [
    "new_df = pd.DataFrame(columns = ['rfap','SATISFACTION_GLOBALE','text_negation_client','text_negation_opérateur','taux_negation_client','taux_negation_opérateur','domaine_acte','famille_acte','objet_acte'])\n",
    "new_df['rfap'] = rfap\n",
    "new_df['SATISFACTION_GLOBALE'] = SATISFACTION_GLOBALE\n",
    "new_df['text_negation_client'] = liste_nega_all_client\n",
    "new_df['text_negation_opérateur'] = liste_nega_all_operateur\n",
    "new_df['taux_negation_client'] = liste_pourcentage_client\n",
    "new_df['taux_negation_opérateur'] = liste_pourcentage_operateur\n",
    "new_df['domaine_acte'] = domaine_acte\n",
    "new_df['objet_acte'] = objet_acte\n",
    "new_df['famille_acte'] = famille_acte"
   ]
  },
  {
   "cell_type": "code",
   "execution_count": null,
   "id": "47f498b6",
   "metadata": {},
   "outputs": [],
   "source": [
    "sat_nagation_all = dataiku.Dataset(\"sat_nagation_all\")\n",
    "sat_nagation_all.write_with_schema(new_df)"
   ]
  }
 ],
 "metadata": {
  "kernelspec": {
   "display_name": "Python 3 (ipykernel)",
   "language": "python",
   "name": "python3"
  },
  "language_info": {
   "codemirror_mode": {
    "name": "ipython",
    "version": 3
   },
   "file_extension": ".py",
   "mimetype": "text/x-python",
   "name": "python",
   "nbconvert_exporter": "python",
   "pygments_lexer": "ipython3",
   "version": "3.9.7"
  }
 },
 "nbformat": 4,
 "nbformat_minor": 5
}
