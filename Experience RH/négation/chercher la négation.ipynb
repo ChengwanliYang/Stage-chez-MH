{
 "cells": [
  {
   "cell_type": "code",
   "execution_count": null,
   "id": "242a8a93",
   "metadata": {},
   "outputs": [],
   "source": [
    "# -*- coding: utf-8 -*-\n",
    "import dataiku\n",
    "import pandas as pd, numpy as np\n",
    "from dataiku import pandasutils as pdu\n",
    "\n",
    "# Read recipe inputs\n",
    "sat_speech_1 = dataiku.Dataset(\"sat_speech_set_1000_prepared\")\n",
    "sat_speech_1_df = sat_speech_1.get_dataframe()\n",
    "\n",
    "\n",
    "nega = dataiku.Dataset(\"negation_Lexique\")\n",
    "nega_df = nega.get_dataframe()\n",
    "liste_de_negation = list(nega_df['Negation'])\n",
    "\n",
    "liste_convers = list(sat_speech_1_df['text_diarise'])\n",
    "liste_convers = liste_convers\n",
    "# Compute recipe outputs from inputs\n",
    "# TODO: Replace this part by your actual code that computes the output, as a Pandas dataframe\n",
    "# NB: DSS also supports other kinds of APIs for reading and writing data. Please see doc.\n",
    "\n",
    "#sat_negation_df = sat_speech_1_df # For this sample code, simply copy input to output\n",
    "\n",
    "\n",
    "# Write recipe outputs\n",
    "#sat_negation = dataiku.Dataset(\"sat_negation\")\n",
    "#sat_negation.write_with_schema(sat_negation_df)"
   ]
  },
  {
   "cell_type": "code",
   "execution_count": null,
   "id": "23771d7e",
   "metadata": {},
   "outputs": [],
   "source": [
    "liste_negation = []\n",
    "for i in liste_de_negation:\n",
    "    negation = str(i)\n",
    "    negation = ' '+negation+' '\n",
    "    liste_negation.append(negation)\n",
    "    \n",
    "liste_negation.remove(\" n' \")  \n",
    "liste_negation.append(\" n'\")\n",
    "#print(liste_negation)"
   ]
  },
  {
   "cell_type": "code",
   "execution_count": null,
   "id": "21006032",
   "metadata": {},
   "outputs": [],
   "source": [
    "liste_des_tours_de_paroles_par_conversation = []\n",
    "for conversation in liste_convers:\n",
    "    conversation=str(conversation)\n",
    "    conversation_intermediaire = conversation.split(\".\")\n",
    "    liste_des_tours_de_paroles_par_conversation.append(conversation_intermediaire)\n",
    "print(len(liste_des_tours_de_paroles_par_conversation), 'conservations')#récupère la liste des conversations entières\n",
    "#print(liste_des_tours_de_paroles_par_conversation[2])"
   ]
  },
  {
   "cell_type": "code",
   "execution_count": null,
   "id": "1bbf5304",
   "metadata": {},
   "outputs": [],
   "source": [
    "\n",
    "import re\n",
    "liste_oper_all = []\n",
    "for i in range(len(liste_des_tours_de_paroles_par_conversation)):\n",
    "    liste_operateur = []\n",
    "\n",
    "    for tdp_conv in liste_des_tours_de_paroles_par_conversation[i]:\n",
    "        conv_1 = str(tdp_conv)\n",
    "\n",
    "        matchObj = re.search('Opérateur :.+', conv_1)\n",
    "        if matchObj:\n",
    "            liste_operateur.append(matchObj.group())\n",
    "    liste_oper_all.append(liste_operateur)\n"
   ]
  },
  {
   "cell_type": "code",
   "execution_count": null,
   "id": "6b0a1db5",
   "metadata": {},
   "outputs": [],
   "source": [
    "'''\n",
    "import re\n",
    "liste_oper_all = []\n",
    "for i in range(len(liste_des_tours_de_paroles_par_conversation)):\n",
    "    liste_operateur = []\n",
    "\n",
    "    for tdp_conv in liste_des_tours_de_paroles_par_conversation[i]:\n",
    "        conv_1 = str(tdp_conv)\n",
    "\n",
    "        matchObj = re.search('Client :.+', conv_1)\n",
    "        if matchObj:\n",
    "            liste_operateur.append(matchObj.group())\n",
    "    liste_oper_all.append(liste_operateur)\n",
    "'''"
   ]
  },
  {
   "cell_type": "code",
   "execution_count": null,
   "id": "256aab61",
   "metadata": {},
   "outputs": [],
   "source": [
    "liste_nega_all = []\n",
    "for i in range(len(liste_oper_all)):\n",
    "    #liste_nega = []\n",
    "    convers = liste_oper_all[i]\n",
    "    \n",
    "    liste_nega = []\n",
    "    for tdp in convers:\n",
    "        \n",
    "        for ne in liste_negation:\n",
    "            matchObj = re.search(ne, tdp)\n",
    "            if matchObj:\n",
    "                \n",
    "                #if tdp not in liste_nega:\n",
    "                    liste_nega.append(tdp)\n",
    "                 \n",
    "    liste_nega = list(set(liste_nega))\n",
    "    #print(liste_nega)\n",
    "    \n",
    "    #if liste_nega not in liste_nega_all:\n",
    "    \n",
    "    liste_nega_all.append(liste_nega)\n",
    "    \n",
    "print(len(liste_nega_all))"
   ]
  },
  {
   "cell_type": "code",
   "execution_count": null,
   "id": "7e0f7d69",
   "metadata": {},
   "outputs": [],
   "source": [
    "liste_pourcentage = []\n",
    "for i in range(len(liste_oper_all)):\n",
    "    len_nega = len(liste_nega_all[i])\n",
    "    len_all = len(liste_oper_all[i])\n",
    "    if len_all == 0:\n",
    "        pourcentage == 0\n",
    "        liste_pourcentage.append(pourcentage)\n",
    "    else:\n",
    "        pourcentage = (len_nega/len_all)*100\n",
    "        liste_pourcentage.append(pourcentage)\n",
    "#print(len(liste_pourcentage))"
   ]
  },
  {
   "cell_type": "code",
   "execution_count": null,
   "id": "a720c9d7",
   "metadata": {},
   "outputs": [],
   "source": [
    "rfap = sat_speech_1_df['rfap']\n",
    "SATISFACTION_GLOBALE = sat_speech_1_df['SATISFACTION_GLOBALE']\n",
    "#text_negation = sat_speech_1_df['text_negation']\n",
    "domaine_acte = sat_speech_1_df['domaine_acte']\n",
    "famille_acte = sat_speech_1_df['famille_acte']\n",
    "objet_acte = sat_speech_1_df['objet_acte']"
   ]
  },
  {
   "cell_type": "code",
   "execution_count": null,
   "id": "d326e3a5",
   "metadata": {},
   "outputs": [],
   "source": [
    "#pour operateur\n",
    "new_df = pd.DataFrame(columns = ['rfap','SATISFACTION_GLOBALE','text_negation','taux_negation_parole_opérateur','domaine_acte','famille_acte','objet_acte'])\n",
    "new_df['rfap'] = rfap\n",
    "new_df['SATISFACTION_GLOBALE'] = SATISFACTION_GLOBALE\n",
    "new_df['text_negation'] = liste_nega_all\n",
    "new_df['taux_negation_parole_opérateur'] = liste_pourcentage\n",
    "new_df['domaine_acte'] = domaine_acte\n",
    "new_df['objet_acte'] = objet_acte\n",
    "new_df['famille_acte'] = famille_acte\n"
   ]
  },
  {
   "cell_type": "code",
   "execution_count": null,
   "id": "43c85548",
   "metadata": {},
   "outputs": [],
   "source": [
    "#pour operateur\n",
    "sat_negation = dataiku.Dataset(\"sat_negation\")\n",
    "sat_negation.write_with_schema(new_df)"
   ]
  },
  {
   "cell_type": "code",
   "execution_count": null,
   "id": "fad5feda",
   "metadata": {},
   "outputs": [],
   "source": [
    "#pour client\n",
    "new_df_2 = pd.DataFrame(columns = ['rfap','SATISFACTION_GLOBALE','text_negation','taux_negation_parole_client','domaine_acte','famille_acte','objet_acte'])\n",
    "new_df_2['rfap'] = rfap\n",
    "new_df_2['SATISFACTION_GLOBALE'] = SATISFACTION_GLOBALE\n",
    "new_df_2['text_negation'] = liste_nega_all\n",
    "new_df_2['taux_negation_parole_client'] = liste_pourcentage\n",
    "new_df_2['domaine_acte'] = domaine_acte\n",
    "new_df_2['objet_acte'] = objet_acte\n",
    "new_df_2['famille_acte'] = famille_acte"
   ]
  },
  {
   "cell_type": "code",
   "execution_count": null,
   "id": "94fcd2c0",
   "metadata": {},
   "outputs": [],
   "source": [
    "#pour client\n",
    "sat_negation_2 = dataiku.Dataset(\"sat_negation_client\")\n",
    "sat_negation_2.write_with_schema(new_df_2)"
   ]
  }
 ],
 "metadata": {
  "kernelspec": {
   "display_name": "Python 3 (ipykernel)",
   "language": "python",
   "name": "python3"
  },
  "language_info": {
   "codemirror_mode": {
    "name": "ipython",
    "version": 3
   },
   "file_extension": ".py",
   "mimetype": "text/x-python",
   "name": "python",
   "nbconvert_exporter": "python",
   "pygments_lexer": "ipython3",
   "version": "3.9.7"
  }
 },
 "nbformat": 4,
 "nbformat_minor": 5
}
