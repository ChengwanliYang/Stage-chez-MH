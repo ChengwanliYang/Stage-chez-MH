{
 "cells": [
  {
   "cell_type": "code",
   "execution_count": null,
   "id": "efd08c5b",
   "metadata": {},
   "outputs": [],
   "source": [
    "# -------------------------------------------------------------------------------- NOTEBOOK-CELL: CODE\n",
    "# -*- coding: utf-8 -*-\n",
    "import dataiku\n",
    "import pandas as pd, numpy as np\n",
    "from dataiku import pandasutils as pdu\n",
    "\n",
    "# Read recipe inputs\n",
    "token_mot_convers_joined_joined = dataiku.Dataset(\"token_mot_convers_joined_joined\")\n",
    "token_mot_convers_joined_joined_df = token_mot_convers_joined_joined.get_dataframe()\n",
    "\n",
    "nom = token_mot_convers_joined_joined_df['nom']\n",
    "nbr_mot = token_mot_convers_joined_joined_df['nbr_mot']\n",
    "nbr_token = token_mot_convers_joined_joined_df['nbr_token']\n",
    "liste_nbr_mot = list(nbr_mot)\n",
    "liste_nbr_token = list(nbr_token)\n",
    "liste_nom = list(nom)\n",
    "\n",
    "# Compute recipe outputs from inputs\n",
    "# TODO: Replace this part by your actual code that computes the output, as a Pandas dataframe\n",
    "# NB: DSS also supports other kinds of APIs for reading and writing data. Please see doc.\n",
    "\n",
    "#pourcentage_mot_df = token_mot_convers_joined_joined_df # For this sample code, simply copy input to output\n",
    "\n",
    "\n",
    "# Write recipe outputs\n",
    "#pourcentage_mot = dataiku.Dataset(\"pourcentage_mot\")\n",
    "#pourcentage_mot.write_with_schema(pourcentage_mot_df)\n",
    "\n",
    "# -------------------------------------------------------------------------------- NOTEBOOK-CELL: CODE\n",
    "liste_porcentage = []\n",
    "for i in range(len(liste_nom )):\n",
    "    mot = liste_nbr_mot[i]\n",
    "    token = liste_nbr_token[i]\n",
    "    \n",
    "    pourcent = (mot/token)*100 \n",
    "    pour = format(pourcent, '.4f')\n",
    "    liste_porcentage.append(pour)\n",
    "\n",
    "# -------------------------------------------------------------------------------- NOTEBOOK-CELL: CODE\n",
    "token_mot_convers_joined_joined_df.insert(1, 'pourcentage_mot', liste_porcentage)\n",
    "\n",
    "# -------------------------------------------------------------------------------- NOTEBOOK-CELL: CODE\n",
    "pourcentage_mot = dataiku.Dataset(\"pourcentage_mot\")\n",
    "pourcentage_mot.write_with_schema(token_mot_convers_joined_joined_df)"
   ]
  }
 ],
 "metadata": {
  "kernelspec": {
   "display_name": "Python 3 (ipykernel)",
   "language": "python",
   "name": "python3"
  },
  "language_info": {
   "codemirror_mode": {
    "name": "ipython",
    "version": 3
   },
   "file_extension": ".py",
   "mimetype": "text/x-python",
   "name": "python",
   "nbconvert_exporter": "python",
   "pygments_lexer": "ipython3",
   "version": "3.9.7"
  }
 },
 "nbformat": 4,
 "nbformat_minor": 5
}
