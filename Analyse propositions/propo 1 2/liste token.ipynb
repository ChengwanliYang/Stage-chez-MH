{
 "cells": [
  {
   "cell_type": "code",
   "execution_count": null,
   "id": "85759afa",
   "metadata": {},
   "outputs": [],
   "source": [
    "# -------------------------------------------------------------------------------- NOTEBOOK-CELL: CODE\n",
    "# -*- coding: utf-8 -*-\n",
    "import dataiku\n",
    "import pandas as pd, numpy as np\n",
    "from dataiku import pandasutils as pdu\n",
    "\n",
    "# Read recipe inputs\n",
    "convers_quantite_joined = dataiku.Dataset(\"convers_quantite_joined\")\n",
    "convers_quantite_joined_df = convers_quantite_joined.get_dataframe()\n",
    "\n",
    "\n",
    "# Compute recipe outputs from inputs\n",
    "# TODO: Replace this part by your actual code that computes the output, as a Pandas dataframe\n",
    "# NB: DSS also supports other kinds of APIs for reading and writing data. Please see doc.\n",
    "\n",
    "convers_all = convers_quantite_joined_df['text_operateur']\n",
    "liste_convers_all = list(convers_all)\n",
    "id_conv = convers_quantite_joined_df['nom']\n",
    "liste_id_conv = list(id_conv)\n",
    "#convers_all_avec_token_df = convers_quantite_joined_df # For this sample code, simply copy input to output\n",
    "# Write recipe outputs\n",
    "#convers_all_avec_token = dataiku.Dataset(\"convers_all_avec_token\")\n",
    "#convers_all_avec_token.write_with_schema(convers_all_avec_token_df)\n",
    "\n",
    "# -------------------------------------------------------------------------------- NOTEBOOK-CELL: CODE\n",
    "liste_token = []\n",
    "for i in range(len(liste_convers_all)):\n",
    "    dic_token = {}\n",
    "    liste = liste_convers_all[i].split(' ')\n",
    "    nbr_token = len(liste)\n",
    "    id_conv = liste_id_conv[i]\n",
    "    dic_token['id'] = id_conv\n",
    "    dic_token['nbr_token'] = nbr_token\n",
    "    #print(dic_token)\n",
    "    liste_token.append(dic_token)\n",
    "    \n",
    "#print(liste_token)\n",
    "\n",
    "# -------------------------------------------------------------------------------- NOTEBOOK-CELL: CODE\n",
    "new_df = pd.DataFrame(liste_token)\n",
    "convers_all_avec_token = dataiku.Dataset(\"convers_all_avec_token\")\n",
    "convers_all_avec_token.write_with_schema(new_df)"
   ]
  }
 ],
 "metadata": {
  "kernelspec": {
   "display_name": "Python 3 (ipykernel)",
   "language": "python",
   "name": "python3"
  },
  "language_info": {
   "codemirror_mode": {
    "name": "ipython",
    "version": 3
   },
   "file_extension": ".py",
   "mimetype": "text/x-python",
   "name": "python",
   "nbconvert_exporter": "python",
   "pygments_lexer": "ipython3",
   "version": "3.9.7"
  }
 },
 "nbformat": 4,
 "nbformat_minor": 5
}
