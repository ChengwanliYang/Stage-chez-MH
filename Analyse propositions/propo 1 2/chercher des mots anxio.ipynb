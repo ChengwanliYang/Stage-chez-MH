{
 "cells": [
  {
   "cell_type": "code",
   "execution_count": null,
   "id": "95449465",
   "metadata": {},
   "outputs": [],
   "source": [
    "# -*- coding: utf-8 -*-\n",
    "import dataiku\n",
    "import pandas as pd, numpy as np\n",
    "from dataiku import pandasutils as pdu\n",
    "from sklearn.feature_extraction.text import TfidfVectorizer\n",
    "\n",
    "# Read recipe inputs\n",
    "convers_validation = dataiku.Dataset(\"convers_validation\")\n",
    "convers_validation_df = convers_validation.get_dataframe()\n",
    "convers_validation_df = convers_validation_df.drop_duplicates(subset='nom', keep=False) #supprimer les doublons dans la colonne 'nom'\n",
    "convers_satisfac_df = convers_validation_df\n",
    "#récupérer les mots dans le dictionnaire LIWCD\n",
    "mot_anxiogene = dataiku.Dataset(\"mot_anxi\")\n",
    "mot_anxiogene_df = mot_anxiogene.get_dataframe()\n",
    "\n",
    "mot_colere = dataiku.Dataset(\"mots_colere\")\n",
    "mot_colere_df = mot_colere.get_dataframe()\n",
    "\n",
    "mot_tristesse = dataiku.Dataset(\"mots_tristesse\")\n",
    "mot_tristesse_df = mot_tristesse.get_dataframe()\n",
    "\n",
    "mot_divergence = dataiku.Dataset(\"mots_divergence\")\n",
    "mot_divergence_df = mot_divergence.get_dataframe()\n",
    "\n",
    "mot_travail = dataiku.Dataset(\"mots_travail\")\n",
    "mot_travail_df = mot_travail.get_dataframe()\n",
    "\n",
    "mot_hesitation = dataiku.Dataset(\"mots_hesitation\")\n",
    "mot_hesitation_df = mot_hesitation.get_dataframe()\n",
    "\n",
    "mot_exclusion = dataiku.Dataset(\"mots_exclusion\")\n",
    "mot_exclusion_df = mot_exclusion.get_dataframe()"
   ]
  },
  {
   "cell_type": "code",
   "execution_count": null,
   "id": "7d9cf02f",
   "metadata": {},
   "outputs": [],
   "source": [
    "convers_all = convers_validation_df['text_diarise']\n",
    "id_conv = convers_validation_df['nom']\n",
    "liste_id_conv = list(id_conv)\n",
    "liste_convers_all = list(convers_all)\n",
    "mot_anxio = mot_anxiogene_df['mot']\n",
    "liste_mot_anxio_all = list(mot_anxio)\n",
    "\n",
    "#convertir en liste\n",
    "liste_mot_colere_all = list(mot_colere_df['mot'])\n",
    "liste_mot_tristesse_all = list(mot_tristesse_df['mot'])\n",
    "liste_mot_divergence_all = list(mot_divergence_df['mot'])\n",
    "liste_mot_travail_all = list(mot_travail_df['mot'])\n",
    "liste_mot_hesitation_all = list(mot_hesitation_df['mot'])\n",
    "liste_mot_exclusion_all = list(mot_exclusion_df['mot'])"
   ]
  },
  {
   "cell_type": "code",
   "execution_count": null,
   "id": "74fe97a2",
   "metadata": {},
   "outputs": [],
   "source": [
    "#supprimer les * à la fin de mot et ajouter une espace avant de mot (pour éviter le problème : chercher 'tendu', trouver: attendu)\n",
    "def liste_lemme(liste):\n",
    "    liste_mot = []\n",
    "    liste_mot_final = []\n",
    "    for m in liste:\n",
    "        if \"*\" in m:\n",
    "            m = m[:-1]\n",
    "            liste_mot.append(m)\n",
    "        else:\n",
    "            liste_mot.append(m)\n",
    "            \n",
    "    for mot in liste_mot:\n",
    "        mot_final = ' '+mot\n",
    "        liste_mot_final.append(mot_final)\n",
    "            \n",
    "    return liste_mot_final"
   ]
  },
  {
   "cell_type": "code",
   "execution_count": null,
   "id": "e7a81ce2",
   "metadata": {},
   "outputs": [],
   "source": [
    "import re\n",
    "def detection_mots(liste):\n",
    "    liste_mot = []\n",
    "    #tfidf = TfidfVectorizer()                      #calculer tfidf\n",
    "    #result = tfidf.fit_transform(liste_convers_all)\n",
    "        \n",
    "    for i in range(len(liste_convers_all)):\n",
    "        dic_mot = {}\n",
    "    \n",
    "        for mot in liste:\n",
    "            if mot in liste_convers_all[i]:                    # si le mot dans la conversation\n",
    "                dic_mot = {}\n",
    "                \n",
    "                \n",
    "                #freq = liste_convers_all[i].count(mot)        #trouver la présence et la fréquance\n",
    "                                                                #enlever l'espace devant le mot\n",
    "                regex = re.compile(str(mot)+r'\\w*')            #trouver le mot au lieu de lemme\n",
    "                mot_trouve = regex.search(liste_convers_all[i]) \n",
    "                if mot_trouve:\n",
    "                    mot_trouve = mot_trouve.group()   \n",
    "                    mot_trouve = mot_trouve[1:]\n",
    "                    print(mot_trouve)\n",
    "                \n",
    "                \n",
    "                \n",
    "                    \n",
    "                    tfidf = TfidfVectorizer()                      #calculer tfidf\n",
    "                    result = tfidf.fit_transform(liste_convers_all)\n",
    "                    index_mot = tfidf.vocabulary_[mot_trouve]      #trouver l'index de mot\n",
    "                    dfitf = result[(i, index_mot)]                 #renvoyer la valeur tfidf\n",
    "                \n",
    "                \n",
    "                \n",
    "                    dic_mot[mot_trouve] = dfitf                     #ajouter le mot et sa valeur tfidf dans le dic\n",
    "\n",
    "                dic_mot.update(dic_mot)                             #fusionner les dic\n",
    "\n",
    "        \n",
    "        liste_mot.append(dic_mot)\n",
    "        #liste_id.append(liste_id_conv[i])\n",
    "    \n",
    "    return liste_mot"
   ]
  },
  {
   "cell_type": "code",
   "execution_count": null,
   "id": "de7fc5f1",
   "metadata": {},
   "outputs": [],
   "source": [
    "new_df = pd.DataFrame(columns = ['nom','mot_anxio','mot_exclusion','mot_colere','mot_tristesse','mot_divergence','mot_travail','mot_hesitation'])\n",
    "new_df['nom'] = liste_id_conv\n",
    "new_df['mot_anxio'] = detection_mots(liste_lemme(liste_mot_anxio_all))"
   ]
  },
  {
   "cell_type": "code",
   "execution_count": null,
   "id": "4f368972",
   "metadata": {},
   "outputs": [],
   "source": [
    "new_df['mot_colere'] = detection_mots(liste_lemme(liste_mot_colere_all))"
   ]
  },
  {
   "cell_type": "code",
   "execution_count": null,
   "id": "5f4fa77c",
   "metadata": {},
   "outputs": [],
   "source": [
    "new_df['mot_tristesse'] = detection_mots(liste_lemme(liste_mot_tristesse_all))"
   ]
  }
 ],
 "metadata": {
  "kernelspec": {
   "display_name": "Python 3 (ipykernel)",
   "language": "python",
   "name": "python3"
  },
  "language_info": {
   "codemirror_mode": {
    "name": "ipython",
    "version": 3
   },
   "file_extension": ".py",
   "mimetype": "text/x-python",
   "name": "python",
   "nbconvert_exporter": "python",
   "pygments_lexer": "ipython3",
   "version": "3.9.7"
  }
 },
 "nbformat": 4,
 "nbformat_minor": 5
}
