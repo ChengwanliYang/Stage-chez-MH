{
 "cells": [
  {
   "cell_type": "code",
   "execution_count": null,
   "id": "50f9b0b6",
   "metadata": {},
   "outputs": [],
   "source": [
    "# -------------------------------------------------------------------------------- NOTEBOOK-CELL: CODE\n",
    "# -*- coding: utf-8 -*-\n",
    "import dataiku\n",
    "import pandas as pd, numpy as np\n",
    "from dataiku import pandasutils as pdu\n",
    "\n",
    "# Read recipe inputs\n",
    "speech_media_negatif_attente = dataiku.Dataset(\"speech_media_negatif_attente\")\n",
    "speech_media_negatif_attente_df = speech_media_negatif_attente.get_dataframe()\n",
    "\n",
    "liste_nom = list(speech_media_negatif_attente_df['nom'])\n",
    "#print(len(liste_nom))\n",
    "liste_nom = set(liste_nom)\n",
    "liste_nom_new = list(liste_nom)\n",
    "\n",
    "dic = {}\n",
    "dic['nom']=liste_nom_new\n",
    "\n",
    "# Compute recipe outputs from inputs\n",
    "# TODO: Replace this part by your actual code that computes the output, as a Pandas dataframe\n",
    "# NB: DSS also supports other kinds of APIs for reading and writing data. Please see doc.\n",
    "\n",
    "commentaire_negatif_att_set_df = pd.DataFrame(dic)\n",
    "\n",
    "\n",
    "# Write recipe outputs\n",
    "commentaire_negatif_att_set = dataiku.Dataset(\"commentaire_negatif_att_set\")\n",
    "commentaire_negatif_att_set.write_with_schema(commentaire_negatif_att_set_df)"
   ]
  }
 ],
 "metadata": {
  "kernelspec": {
   "display_name": "Python 3 (ipykernel)",
   "language": "python",
   "name": "python3"
  },
  "language_info": {
   "codemirror_mode": {
    "name": "ipython",
    "version": 3
   },
   "file_extension": ".py",
   "mimetype": "text/x-python",
   "name": "python",
   "nbconvert_exporter": "python",
   "pygments_lexer": "ipython3",
   "version": "3.9.7"
  }
 },
 "nbformat": 4,
 "nbformat_minor": 5
}
