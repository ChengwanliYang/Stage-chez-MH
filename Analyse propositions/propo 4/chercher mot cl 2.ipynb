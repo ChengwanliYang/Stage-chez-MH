{
 "cells": [
  {
   "cell_type": "code",
   "execution_count": null,
   "id": "ab8c67d9",
   "metadata": {},
   "outputs": [],
   "source": [
    "# -------------------------------------------------------------------------------- NOTEBOOK-CELL: CODE\n",
    "# -*- coding: utf-8 -*-\n",
    "import dataiku\n",
    "import pandas as pd, numpy as np\n",
    "from dataiku import pandasutils as pdu\n",
    "\n",
    "# Read recipe inputs\n",
    "historisation_speech_vue_joined = dataiku.Dataset(\"historisation_speech_vue_joined\")\n",
    "historisation_speech_vue_joined_df = historisation_speech_vue_joined.get_dataframe()\n",
    "\n",
    "liste_rfap = list(historisation_speech_vue_joined_df['rfap'])\n",
    "liste_texte = list(historisation_speech_vue_joined_df['text_diarise'])\n",
    "liste_nom = list(historisation_speech_vue_joined_df['nom'])\n",
    "\n",
    "# Compute recipe outputs from inputs\n",
    "# TODO: Replace this part by your actual code that computes the output, as a Pandas dataframe\n",
    "# NB: DSS also supports other kinds of APIs for reading and writing data. Please see doc.\n",
    "\n",
    "#speech_rce_df = historisation_speech_vue_joined_df # For this sample code, simply copy input to output\n",
    "\n",
    "\n",
    "# Write recipe outputs\n",
    "#speech_rce = dataiku.Dataset(\"speech_rce\")\n",
    "#speech_rce.write_with_schema(speech_rce_df)\n",
    "\n",
    "# -------------------------------------------------------------------------------- NOTEBOOK-CELL: CODE\n",
    "l_texte = []\n",
    "l_r = []\n",
    "l_n = []\n",
    "\n",
    "for i in range(len(liste_texte)):\n",
    "    texte = liste_texte[i]\n",
    "    if ' fou ' in texte:\n",
    "        l_texte.append(texte)\n",
    "        l_r.append(liste_rfap[i])\n",
    "        l_n.append(liste_nom[i])\n",
    "\n",
    "print(len(l_texte))\n",
    "\n",
    "# -------------------------------------------------------------------------------- NOTEBOOK-CELL: CODE\n",
    "new_df = pd.DataFrame(columns = ['nom','rfap','texte'])\n",
    "new_df['rfap'] = l_r\n",
    "new_df['texte'] = l_texte\n",
    "new_df['nom'] = l_n\n",
    "\n",
    "# -------------------------------------------------------------------------------- NOTEBOOK-CELL: CODE\n",
    "speech_rce = dataiku.Dataset(\"speech_rce\")\n",
    "speech_rce.write_with_schema(new_df)"
   ]
  }
 ],
 "metadata": {
  "kernelspec": {
   "display_name": "Python 3 (ipykernel)",
   "language": "python",
   "name": "python3"
  },
  "language_info": {
   "codemirror_mode": {
    "name": "ipython",
    "version": 3
   },
   "file_extension": ".py",
   "mimetype": "text/x-python",
   "name": "python",
   "nbconvert_exporter": "python",
   "pygments_lexer": "ipython3",
   "version": "3.9.7"
  }
 },
 "nbformat": 4,
 "nbformat_minor": 5
}
