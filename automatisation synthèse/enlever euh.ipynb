{
 "cells": [
  {
   "cell_type": "code",
   "execution_count": null,
   "id": "f7a5538f",
   "metadata": {},
   "outputs": [],
   "source": [
    "# -*- coding: utf-8 -*-\n",
    "import dataiku\n",
    "import pandas as pd, numpy as np\n",
    "from dataiku import pandasutils as pdu\n",
    "\n",
    "# Read recipe inputs\n",
    "synthese_transcription = dataiku.Dataset(\"synthese_transcription\")\n",
    "synthese_transcription_df = synthese_transcription.get_dataframe()\n",
    "\n",
    "resume_all = synthese_transcription_df['synthese']\n",
    "liste_resume_all = list(resume_all)\n",
    "\n",
    "# Compute recipe outputs from inputs\n",
    "# TODO: Replace this part by your actual code that computes the output, as a Pandas dataframe\n",
    "# NB: DSS also supports other kinds of APIs for reading and writing data. Please see doc.\n",
    "\n",
    "#synthese_trans_clear_df = synthese_transcription_df # For this sample code, simply copy input to output\n",
    "\n",
    "\n",
    "# Write recipe outputs\n",
    "#synthese_trans_clear = dataiku.Dataset(\"synthese_trans_clear\")\n",
    "#synthese_trans_clear.write_with_schema(synthese_trans_clear_df)"
   ]
  },
  {
   "cell_type": "code",
   "execution_count": null,
   "id": "56679a00",
   "metadata": {},
   "outputs": [],
   "source": [
    "def enlever(liste):\n",
    "    liste_nettoie_resume = []\n",
    "    for tdp in liste:\n",
    "        str_tdp = str(tdp)\n",
    "        texte = str_tdp.replace(\"//\",\".\")\n",
    "        texte = texte.replace('du coup','')\n",
    "        texte = texte.replace('donc','')\n",
    "        texte = texte.replace('ah','')\n",
    "        texte = texte.replace('bah','')\n",
    "        texte = texte.replace('heu','')\n",
    "        texte = texte.replace('hum','')\n",
    "        texte = texte.replace('hein','')\n",
    "        texte = texte.replace('euh','')\n",
    "        liste_nettoie_resume.append(texte)\n",
    "\n",
    "    return liste_nettoie_resume"
   ]
  },
  {
   "cell_type": "code",
   "execution_count": null,
   "id": "c60c84a7",
   "metadata": {},
   "outputs": [],
   "source": [
    "synthese_transcription_df = synthese_transcription_df.drop('synthese',axis=1 )\n",
    "synthese_transcription_df.insert(synthese_transcription_df.shape[1], 'synthese', enlever(liste_resume_all))"
   ]
  },
  {
   "cell_type": "code",
   "execution_count": null,
   "id": "6181526c",
   "metadata": {},
   "outputs": [],
   "source": [
    "synthese_trans_clear = dataiku.Dataset(\"synthese_trans_clear\")\n",
    "synthese_trans_clear.write_with_schema(synthese_transcription_df)"
   ]
  }
 ],
 "metadata": {
  "kernelspec": {
   "display_name": "Python 3 (ipykernel)",
   "language": "python",
   "name": "python3"
  },
  "language_info": {
   "codemirror_mode": {
    "name": "ipython",
    "version": 3
   },
   "file_extension": ".py",
   "mimetype": "text/x-python",
   "name": "python",
   "nbconvert_exporter": "python",
   "pygments_lexer": "ipython3",
   "version": "3.9.7"
  }
 },
 "nbformat": 4,
 "nbformat_minor": 5
}
