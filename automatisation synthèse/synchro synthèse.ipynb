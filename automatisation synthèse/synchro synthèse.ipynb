{
 "cells": [
  {
   "cell_type": "code",
   "execution_count": null,
   "id": "fe6ce842",
   "metadata": {},
   "outputs": [],
   "source": [
    "# -------------------------------------------------------------------------------- NOTEBOOK-CELL: CODE\n",
    "# -*- coding: utf-8 -*-\n",
    "import dataiku\n",
    "import pandas as pd, numpy as np\n",
    "from dataiku import pandasutils as pdu\n",
    "\n",
    "# Read recipe inputs\n",
    "synthese_trans_clear = dataiku.Dataset(\"synthese_trans_clear\")\n",
    "synthese_trans_clear_df = synthese_trans_clear.get_dataframe()\n",
    "synthese_trans_clear_stock = dataiku.Dataset(\"synthese_trans_clear_stock\")\n",
    "synthese_trans_clear_stock_df = synthese_trans_clear_stock.get_dataframe()\n",
    "#synthese_trans_clear_stock = dataiku.Dataset(\"output_synthese_trans\")\n",
    "#synthese_trans_clear_stock_df = synthese_trans_clear_stock.get_dataframe()\n",
    "\n",
    "# -------------------------------------------------------------------------------- NOTEBOOK-CELL: CODE\n",
    "synthese_trans_clear_stock_df = synthese_trans_clear_stock_df.append(synthese_trans_clear_df)\n",
    "#synthese_trans_clear_stock_df = synthese_trans_clear_df\n",
    "# Compute recipe outputs\n",
    "# TODO: Write here your actual code that computes the outputs\n",
    "# NB: DSS supports several kinds of APIs for reading and writing data. Please see doc.\n",
    "\n",
    "#synthese_trans_clear_stock_df = ... # Compute a Pandas dataframe to write into synthese_trans_clear_stock\n",
    "\n",
    "\n",
    "# Write recipe outputs\n",
    "synthese_trans_clear_stock = dataiku.Dataset(\"synthese_trans_clear_stock\")\n",
    "synthese_trans_clear_stock.write_with_schema(synthese_trans_clear_stock_df)"
   ]
  }
 ],
 "metadata": {
  "kernelspec": {
   "display_name": "Python 3 (ipykernel)",
   "language": "python",
   "name": "python3"
  },
  "language_info": {
   "codemirror_mode": {
    "name": "ipython",
    "version": 3
   },
   "file_extension": ".py",
   "mimetype": "text/x-python",
   "name": "python",
   "nbconvert_exporter": "python",
   "pygments_lexer": "ipython3",
   "version": "3.9.7"
  }
 },
 "nbformat": 4,
 "nbformat_minor": 5
}
